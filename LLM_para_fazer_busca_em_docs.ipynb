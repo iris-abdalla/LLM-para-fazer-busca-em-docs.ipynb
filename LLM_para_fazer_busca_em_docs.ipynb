{
  "nbformat": 4,
  "nbformat_minor": 0,
  "metadata": {
    "colab": {
      "provenance": [],
      "authorship_tag": "ABX9TyODsMytpDM4n9/EITtxRI/y",
      "include_colab_link": true
    },
    "kernelspec": {
      "name": "python3",
      "display_name": "Python 3"
    },
    "language_info": {
      "name": "python"
    }
  },
  "cells": [
    {
      "cell_type": "markdown",
      "metadata": {
        "id": "view-in-github",
        "colab_type": "text"
      },
      "source": [
        "<a href=\"https://colab.research.google.com/github/iris-abdalla/LLM-para-fazer-busca-em-docs.ipynb/blob/main/LLM_para_fazer_busca_em_docs.ipynb\" target=\"_parent\"><img src=\"https://colab.research.google.com/assets/colab-badge.svg\" alt=\"Open In Colab\"/></a>"
      ]
    },
    {
      "cell_type": "code",
      "execution_count": 19,
      "metadata": {
        "id": "o0wjQrio0kAX",
        "colab": {
          "base_uri": "https://localhost:8080/"
        },
        "outputId": "87e938b3-950c-4265-c0ae-16d2ed6e165a"
      },
      "outputs": [
        {
          "output_type": "stream",
          "name": "stdout",
          "text": [
            "\u001b[2K     \u001b[90m━━━━━━━━━━━━━━━━━━━━━━━━━━━━━━━━━━━━━━━━\u001b[0m \u001b[32m150.7/150.7 kB\u001b[0m \u001b[31m4.8 MB/s\u001b[0m eta \u001b[36m0:00:00\u001b[0m\n",
            "\u001b[2K     \u001b[90m━━━━━━━━━━━━━━━━━━━━━━━━━━━━━━━━━━━━━━━━\u001b[0m \u001b[32m679.1/679.1 kB\u001b[0m \u001b[31m13.6 MB/s\u001b[0m eta \u001b[36m0:00:00\u001b[0m\n",
            "\u001b[?25h"
          ]
        }
      ],
      "source": [
        "!pip install -q -U google-generativeai"
      ]
    },
    {
      "cell_type": "markdown",
      "source": [
        "Importandoo as configurações iniciais"
      ],
      "metadata": {
        "id": "VWgSwRse1pUS"
      }
    },
    {
      "cell_type": "code",
      "source": [
        "import numpy as np\n",
        "import pandas as pd\n",
        "import google.generativeai as genai\n",
        "\n",
        "GOOGLE_API_KEY="INSIRA_SUA_API_KEY"
"genai.configure(api_key=GOOGLE_API_KEY)"
      ],
      "metadata": {
        "id": "8NB67I1l1wLT"
      },
      "execution_count": 21,
      "outputs": []
    },
    {
      "cell_type": "markdown",
      "source": [
        "Vamos puxar os embeddings que temos disponíveis para esse projeto.\n",
        "Embeddings são importantes para trazer contexto semântico. Eles vão calcular a correlação entre as palavras escolhendo a menor distância entre elas."
      ],
      "metadata": {
        "id": "-Qgu9Q_y7t0v"
      }
    },
    {
      "cell_type": "code",
      "source": [
        "for m in genai.list_models():\n",
        "  if 'embedContent' in m.supported_generation_methods:\n",
        "    print(m.name)"
      ],
      "metadata": {
        "colab": {
          "base_uri": "https://localhost:8080/",
          "height": 52
        },
        "id": "Tk4gcSwj8Hqj",
        "outputId": "cbe226fb-92bf-4d99-a97c-0186fe5ec796"
      },
      "execution_count": 22,
      "outputs": [
        {
          "output_type": "stream",
          "name": "stdout",
          "text": [
            "models/embedding-001\n",
            "models/text-embedding-004\n"
          ]
        }
      ]
    },
    {
      "cell_type": "code",
      "source": [
        "title = 'A próxima geração de I.As irá facilitar o trabalho online'\n",
        "sample_text = ('A próxima geração de I.As irá facilitar o trabalho online')\n",
        "\n",
        "\n",
        "embeddings = genai.embed_content(model = 'models/embedding-001',\n",
        "                                content=sample_text,\n",
        "                                title=title,\n",
        "                                task_type='RETRIEVAL_DOCUMENT')\n",
        "print(embeddings)"
      ],
      "metadata": {
        "colab": {
          "base_uri": "https://localhost:8080/",
          "height": 54
        },
        "id": "gOsZ5b3tDLQM",
        "outputId": "05d654a9-b688-40ca-b63d-9133005ce581"
      },
      "execution_count": 23,
      "outputs": [
        {
          "output_type": "stream",
          "name": "stdout",
          "text": [
            "{'embedding': [0.04724083, 0.031180913, -0.053603437, -0.017601002, 0.09355652, 0.034197636, 0.0018222096, -0.018721845, 0.014704687, 0.06601546, 0.014896748, 0.026991336, -0.0075749736, 0.02669254, 0.012779351, -0.059248216, 0.012348166, -0.03549728, -0.027764713, -0.059462592, -0.03085075, 0.0038505993, -0.014760118, 0.0046284795, -0.00077343365, 0.009781641, -0.003444503, -0.0465558, 0.011306569, -0.032419942, -0.036672067, 0.057878617, -0.032519985, 0.022620035, -0.056466717, -0.013607349, -0.040678255, -0.0053628464, 0.005780718, 0.013934534, -0.010635099, -0.06725787, 0.014714824, 0.037991073, 0.033710793, -0.051713012, -0.020411557, -0.005701383, 0.04942442, -0.1063082, 0.019104358, -0.002360252, 0.0521286, -0.04461431, -0.010600202, 0.0038884915, 0.033213526, -0.034941424, 0.016543424, -0.021531167, 0.009500981, -0.00017976477, 0.007571568, 0.03402687, -0.02197898, -0.043251533, -0.032170013, 0.005963612, 0.010898953, 0.026333103, -0.00063405425, 0.0002652964, 0.051965367, -0.029818472, -0.02288086, -0.078101784, -0.013984855, 0.026456576, 0.012027608, -0.040552497, -0.008182903, -0.06334057, -0.07352773, -0.04953058, -0.054466628, 0.06273692, -0.032058097, 0.0017747091, 0.05555189, 0.013095942, -0.010865724, -0.03215993, 0.0059210444, -0.071994945, -0.013955718, 0.028659139, -0.052099455, -0.04508586, -0.012276997, -0.059568696, -0.0059343497, 0.028413253, -0.041804194, 0.004333552, 0.0295972, 0.0700576, 0.012561259, 0.022569569, 0.046628878, 0.07226749, -0.03213293, -0.03495913, 0.04163271, -0.039205305, 0.034384865, -0.045901716, 0.021988666, 0.07015302, 0.023150502, 0.020130232, 0.029018253, 0.046260875, 0.049826384, 0.0018908746, 0.0022742578, 0.002586544, -0.03582209, 0.031723224, 0.043601535, 0.051946174, 0.0458733, -0.014140381, -0.017719172, 0.026181674, 0.083846584, 0.060379572, 0.024717245, 0.0022329246, 0.053315848, 0.0019990085, 0.018275432, 0.03311638, 0.029818852, 0.021202475, 0.00180947, 0.056552507, -0.065966435, -0.013459346, 0.06828635, -0.018049091, 0.017250001, -0.013362476, -0.079342954, 0.023123363, 0.051150296, -0.0064392174, 0.009333539, 0.049104556, 0.0080139935, 0.012083033, 0.041922595, -0.027210413, 0.004259788, 0.006082381, -0.039623696, -0.038203392, 0.011831446, 0.0072100153, -0.021766419, 0.021119075, 0.002309156, 7.2684874e-05, -0.043273788, -0.067918226, -0.035904553, -0.044398285, 0.0013728474, -0.035126153, -0.037721936, 0.038585126, 0.004246361, -0.033145577, -0.01645334, 0.026955483, 0.034561858, -0.07667237, 0.038415793, -0.03971409, -0.05147163, 0.043946564, -0.022718424, -0.0033164748, -0.03182364, 0.0052923667, -0.072139405, 0.038635835, 0.02541366, -0.0050639547, 0.020761652, -0.05889072, 0.014763999, 0.06259282, 0.015446315, -0.031368732, 0.018342271, 0.011644033, 0.084210925, -0.0297906, -0.089253604, 0.050402578, -0.025962029, 0.04507158, 0.0053844335, -0.027005753, 0.03800034, -0.009498221, -0.015976401, 0.03340563, -0.018289208, -0.03286335, -0.024325242, -0.022462575, -0.03907923, 0.021574609, -0.011289675, 0.05296111, -0.03257132, 0.03422852, 0.034149297, -0.051350698, 0.019463686, 0.05752922, 0.02095139, -0.0045299158, 0.07728565, -0.024865933, 0.022527141, 0.018180257, 0.0013724826, 0.047241524, -0.04785174, 0.07211007, 0.04069004, 0.020698018, -0.04111104, 0.005880801, -0.0120268, 0.06651135, -0.0030722022, 0.035778858, 0.03678908, -0.056684718, -0.03353269, 0.025424054, -0.042365737, 0.01882998, -0.052943017, -0.03577219, 0.013995408, -0.019019369, 0.05735408, 0.019173665, -0.031911537, 0.0002682298, 0.036422312, 0.007595349, -0.008909762, -0.019965436, 0.018115992, -0.019539453, 0.009440439, -0.02758077, 0.042370092, 0.028847495, -0.019578503, 0.010253264, 0.013511007, 0.049923997, 0.029906375, -0.01503995, 0.022379551, 0.013748509, 0.003911165, -0.031108156, -0.010328574, -0.036038555, -0.024323912, -0.017216763, 0.07492376, -0.02378321, -0.053335533, 0.043202873, -0.003217694, 0.029575482, -0.052556038, -0.03282811, -0.014013868, 0.029831193, 0.041650947, -0.0047782185, 0.015563031, -0.111943826, 0.041008666, -0.073856354, 0.0039008548, 0.031674616, 0.0036485256, 0.0053047286, 0.0665751, 0.028253553, 0.03507342, -0.019450393, -0.04569364, 0.009332254, 0.044038832, 0.048365876, -0.05146524, -0.0042908206, -0.009017121, 0.044658013, 0.0040250765, 0.03948068, 0.056607097, -0.003467691, -0.0021840436, 0.051928412, 0.026386946, 0.0041186423, -0.01040767, 0.011833367, -0.010790816, 0.0044160117, -0.033259124, 0.03304712, 0.03923279, 0.023208462, -0.09280922, 0.016792586, -0.015963187, 0.0023304524, -0.0053498135, 0.045213677, -0.0068720253, -0.033721168, 0.05115842, 0.024741132, -0.05358103, 0.03657889, 0.017814819, 0.026296686, 0.0031735406, 0.067599595, -0.01667508, -0.018727621, -0.00019476685, -0.031983458, 0.030894447, -0.004641205, 0.0433993, -0.051393215, -0.029613955, 0.042478237, -0.054607507, -0.0048167524, -0.02081558, 0.005997246, -0.021267973, -0.026702385, -0.0076882183, 0.034758408, 0.039903525, -0.004082693, 0.028326692, -0.05831708, -0.013934832, -0.0024401988, -0.004113509, -0.049196813, 0.005094277, 0.068166785, -0.029118555, 0.021729963, 0.053366307, 0.036672413, 0.0010089703, -0.019590165, 0.060084395, 0.072953165, -0.0026966596, 0.033552498, 0.0037559723, 0.012082982, 0.07877439, 0.014307089, -0.01696497, -0.021236027, -0.031448115, -0.039849117, 0.029570045, 0.018622419, -0.035907667, -0.038924716, -0.019708596, -0.01484314, -0.077576414, -0.026368039, -0.013774372, -0.057731066, -0.06418694, 0.0030998643, 0.013939977, 0.016149381, 0.045948822, -0.033079427, -0.051848896, -0.01875355, 0.041720565, 0.0009310816, 0.030553514, -0.041605614, 0.006141965, 0.012554471, -0.013043261, -0.0036723956, -0.039603088, -0.0059344484, 0.04449484, -0.055332813, -0.034154426, 0.040860914, 0.04059199, -0.019775284, 0.011130745, -0.019231072, -0.03256427, -0.013882494, -0.017558547, 0.022653034, -0.04127, -0.006535566, 0.055841345, -0.014777492, -0.0044883406, 0.003812309, -0.041426454, -0.081031926, -0.008380795, -0.004438532, 0.05162111, -0.09002349, 0.0014626669, -0.09142885, -0.05708977, -0.04193912, 0.012821984, -0.010957091, 0.036500495, 0.050713662, -0.03473513, -0.014575396, -0.0108813085, -0.032720573, -0.06273801, -0.0076338267, 0.008674656, -0.006507484, 0.06426715, -0.009609109, 0.018672025, 0.079211295, 0.035551175, -0.09142317, 0.028633729, 0.003425002, -0.003403607, 0.029359842, -0.08228701, 0.0712911, -0.06306911, -0.0034163506, -0.024908932, -0.05008159, 0.019925069, 0.017645672, -0.008291213, -0.010833415, 0.004369662, -0.02737895, 0.028463848, 0.014617715, -0.004254877, 0.0057373843, -0.012462165, -0.07249857, -0.014584227, -0.0017912675, -0.071347915, 0.011545796, 0.035936162, 0.017455496, -0.040313788, 0.010773936, -0.01804392, -0.024426049, 0.049197957, -0.029827803, 0.033877976, 0.0047316635, -0.0013842996, -0.0049947803, 0.0036832006, -0.0048075635, 0.0016468992, -0.05258967, 0.102161735, -0.0004815473, -0.0027107322, -0.035801057, -0.0014210524, -0.0040820455, 0.0020377696, -0.0043923873, -0.07774369, -0.002231573, 0.02701921, -0.036843054, -0.0022443477, 0.022154622, -0.0015999159, 0.00986573, -0.04382318, 0.09429767, 0.0026470493, -0.039542142, 0.023360178, -0.0009184419, 0.055743437, 0.0151007725, -0.009759424, -0.016560081, 0.0043725953, -0.0040437826, 0.015485337, 0.04100309, -0.014670425, -0.020282853, -0.003538109, -0.05332078, 0.01110806, -0.04761022, -0.0056933165, -0.003956172, -0.0018693539, -0.012247168, 0.0021276202, -0.013907978, 0.0023766912, -0.027405875, 0.050540537, 0.0061355983, 0.025755676, -0.025174817, -0.043101955, 0.010617269, 0.08974348, -0.0077558453, -0.035246298, -0.05366645, -0.0039910953, -0.025290173, 0.031347178, 0.026072733, 0.07200372, 0.02324464, 0.021632917, 0.021706935, -0.05867517, -0.011805066, -0.017282227, 0.0033968827, 0.005264215, -0.02484972, 0.0018005726, 0.025402002, -0.01334386, -0.0093150865, 0.015290762, 0.044299, 0.023851737, 0.0029922265, -0.02579302, 0.059422318, 0.0002693339, 0.03864098, 0.011697807, 0.008797101, 0.014849551, 0.018087277, -0.013568099, 0.030666508, 0.018305972, -0.03115222, 0.067335926, -0.00033067304, -0.010674193, -0.024286734, -0.014788331, 0.016147573, 0.008048057, 0.056954946, -0.027052281, -0.053483594, -0.025667239, -0.020104751, -0.04789763, -0.018465005, 0.0023347642, 0.01865743, -0.028426595, -0.02652757, 0.0194057, 0.025458224, 0.02373113, 0.034552705, 0.0031351007, -0.020499853, -0.002695337, -0.0065091406, 0.050561495, 0.03574575, 0.09644317, 0.03507357, 0.012741226, -0.0053509288, -0.06511075, -0.002521941, 0.0034268112, 0.03864783, -0.027045067, -0.00074653735, -0.09989809, 0.00022231256, 0.015002599, -0.022259083, -0.0022608766, 0.052627664, 0.022593116, -0.03797856, -0.0896126, -0.031038804, -0.016665658, 0.014405292, -0.0008962716, 0.002179158, 0.048342597, 0.032556143, -0.043128658, -0.0067858957, 0.016339015, -0.006436557, -0.08346754, 0.016984662, 0.021986015, -0.003773021, -0.02155029, -0.0011086443, -0.042957176, -0.060863264, 0.0026890952, 0.055158596, -0.035194717, 0.036235772, 0.042110752, -0.019701712, 0.031703714, 0.045370962, 0.02474461, 0.029759234, -0.03085758, -0.03149228, -0.0034400336, -0.08152468, -0.042112835, -0.018144906, -0.03415006, -0.0159476, 0.074542515, -0.052535646, -0.038974874, -0.026231876, 0.013933224, -0.03124582, 0.009151008, 0.018024987, 0.051683795, -0.021096986, -0.021708548, -0.014335099, 0.015434437, 0.012877662, 0.0076248595, -0.039089736, 0.0068007368, 0.0051783277, -0.030471997, -0.0090439115, -0.011903658, -0.0051476904, 0.026157202, 0.041213837, 0.019717654, -0.019480312, -0.017514465, 0.058936138, 0.047065508, -0.034520622, -0.02991614, 0.044722937, -0.00075831264, 0.038993686, 0.014710142, 0.020381313, -0.025001774, -0.027067425, -0.034764513, -0.011185811, -0.03580799, 0.0051904395, -0.026015824, -0.02373124, 0.09236112, -0.016648814, -0.01729208, 0.028662374, -0.026142465, 0.057180364, -0.024006888, 0.047758527, -0.061353594, -0.09666428, -0.054310124, -0.015118313, -0.05499113, 0.06772283, 0.01497031, -0.0400582, 0.00365372, -0.018761177, -0.007899559, -0.04114103, -0.0053951256, -0.024415642, 0.022266313, 0.045020297, 0.02203356, -0.010565016, -0.02260465, -0.05454249, 0.029957404, -0.002510201, -0.058585, -0.04071736, 0.01662259, 0.01798641, 0.015759477, 0.03366577, -0.037779637, 0.044454396]}\n"
          ]
        }
      ]
    },
    {
      "cell_type": "code",
      "source": [
        "#Listagem de documentos que serão buscados\n",
        "DOCUMENT1 = {\n",
        "    \"Título\": \"Operação do sistema de controle climático\",\n",
        "    \"Conteúdo\": \"O Googlecar tem um sistema de controle climático que permite ajustar a temperatura e o fluxo de ar no carro. Para operar o sistema de controle climático, use os botões e botões localizados no console central.  Temperatura: O botão de temperatura controla a temperatura dentro do carro. Gire o botão no sentido horário para aumentar a temperatura ou no sentido anti-horário para diminuir a temperatura. Fluxo de ar: O botão de fluxo de ar controla a quantidade de fluxo de ar dentro do carro. Gire o botão no sentido horário para aumentar o fluxo de ar ou no sentido anti-horário para diminuir o fluxo de ar. Velocidade do ventilador: O botão de velocidade do ventilador controla a velocidade do ventilador. Gire o botão no sentido horário para aumentar a velocidade do ventilador ou no sentido anti-horário para diminuir a velocidade do ventilador. Modo: O botão de modo permite que você selecione o modo desejado. Os modos disponíveis são: Auto: O carro ajustará automaticamente a temperatura e o fluxo de ar para manter um nível confortável. Cool (Frio): O carro soprará ar frio para dentro do carro. Heat: O carro soprará ar quente para dentro do carro. Defrost (Descongelamento): O carro soprará ar quente no para-brisa para descongelá-lo.\"}\n",
        "\n",
        "DOCUMENT2 = {\n",
        "    \"Título\": \"Touchscreen\",\n",
        "    \"Conteúdo\": \"O seu Googlecar tem uma grande tela sensível ao toque que fornece acesso a uma variedade de recursos, incluindo navegação, entretenimento e controle climático. Para usar a tela sensível ao toque, basta tocar no ícone desejado.  Por exemplo, você pode tocar no ícone \\\"Navigation\\\" (Navegação) para obter direções para o seu destino ou tocar no ícone \\\"Music\\\" (Música) para reproduzir suas músicas favoritas.\"}\n",
        "\n",
        "DOCUMENT3 = {\n",
        "    \"Título\": \"Mudança de marchas\",\n",
        "    \"Conteúdo\": \"Seu Googlecar tem uma transmissão automática. Para trocar as marchas, basta mover a alavanca de câmbio para a posição desejada.  Park (Estacionar): Essa posição é usada quando você está estacionado. As rodas são travadas e o carro não pode se mover. Marcha à ré: Essa posição é usada para dar ré. Neutro: Essa posição é usada quando você está parado em um semáforo ou no trânsito. O carro não está em marcha e não se moverá a menos que você pressione o pedal do acelerador. Drive (Dirigir): Essa posição é usada para dirigir para frente. Low: essa posição é usada para dirigir na neve ou em outras condições escorregadias.\"}\n",
        "\n",
        "documents = [DOCUMENT1, DOCUMENT2, DOCUMENT3]"
      ],
      "metadata": {
        "id": "sfFtdCibG56W"
      },
      "execution_count": 24,
      "outputs": []
    },
    {
      "cell_type": "code",
      "source": [
        "df = pd.DataFrame(documents)\n",
        "df.columns = ['Assunto', 'Abordagem']\n",
        "df"
      ],
      "metadata": {
        "colab": {
          "base_uri": "https://localhost:8080/",
          "height": 143
        },
        "id": "W6ONj4zMHH9_",
        "outputId": "d346a6a6-caba-4b80-e2c9-c922db5e08d1"
      },
      "execution_count": 25,
      "outputs": [
        {
          "output_type": "execute_result",
          "data": {
            "text/plain": [
              "                                     Assunto  \\\n",
              "0  Operação do sistema de controle climático   \n",
              "1                                Touchscreen   \n",
              "2                         Mudança de marchas   \n",
              "\n",
              "                                           Abordagem  \n",
              "0  O Googlecar tem um sistema de controle climáti...  \n",
              "1  O seu Googlecar tem uma grande tela sensível a...  \n",
              "2  Seu Googlecar tem uma transmissão automática. ...  "
            ],
            "text/html": [
              "\n",
              "  <div id=\"df-93b310b5-b4ab-42b6-89f5-12359207e221\" class=\"colab-df-container\">\n",
              "    <div>\n",
              "<style scoped>\n",
              "    .dataframe tbody tr th:only-of-type {\n",
              "        vertical-align: middle;\n",
              "    }\n",
              "\n",
              "    .dataframe tbody tr th {\n",
              "        vertical-align: top;\n",
              "    }\n",
              "\n",
              "    .dataframe thead th {\n",
              "        text-align: right;\n",
              "    }\n",
              "</style>\n",
              "<table border=\"1\" class=\"dataframe\">\n",
              "  <thead>\n",
              "    <tr style=\"text-align: right;\">\n",
              "      <th></th>\n",
              "      <th>Assunto</th>\n",
              "      <th>Abordagem</th>\n",
              "    </tr>\n",
              "  </thead>\n",
              "  <tbody>\n",
              "    <tr>\n",
              "      <th>0</th>\n",
              "      <td>Operação do sistema de controle climático</td>\n",
              "      <td>O Googlecar tem um sistema de controle climáti...</td>\n",
              "    </tr>\n",
              "    <tr>\n",
              "      <th>1</th>\n",
              "      <td>Touchscreen</td>\n",
              "      <td>O seu Googlecar tem uma grande tela sensível a...</td>\n",
              "    </tr>\n",
              "    <tr>\n",
              "      <th>2</th>\n",
              "      <td>Mudança de marchas</td>\n",
              "      <td>Seu Googlecar tem uma transmissão automática. ...</td>\n",
              "    </tr>\n",
              "  </tbody>\n",
              "</table>\n",
              "</div>\n",
              "    <div class=\"colab-df-buttons\">\n",
              "\n",
              "  <div class=\"colab-df-container\">\n",
              "    <button class=\"colab-df-convert\" onclick=\"convertToInteractive('df-93b310b5-b4ab-42b6-89f5-12359207e221')\"\n",
              "            title=\"Convert this dataframe to an interactive table.\"\n",
              "            style=\"display:none;\">\n",
              "\n",
              "  <svg xmlns=\"http://www.w3.org/2000/svg\" height=\"24px\" viewBox=\"0 -960 960 960\">\n",
              "    <path d=\"M120-120v-720h720v720H120Zm60-500h600v-160H180v160Zm220 220h160v-160H400v160Zm0 220h160v-160H400v160ZM180-400h160v-160H180v160Zm440 0h160v-160H620v160ZM180-180h160v-160H180v160Zm440 0h160v-160H620v160Z\"/>\n",
              "  </svg>\n",
              "    </button>\n",
              "\n",
              "  <style>\n",
              "    .colab-df-container {\n",
              "      display:flex;\n",
              "      gap: 12px;\n",
              "    }\n",
              "\n",
              "    .colab-df-convert {\n",
              "      background-color: #E8F0FE;\n",
              "      border: none;\n",
              "      border-radius: 50%;\n",
              "      cursor: pointer;\n",
              "      display: none;\n",
              "      fill: #1967D2;\n",
              "      height: 32px;\n",
              "      padding: 0 0 0 0;\n",
              "      width: 32px;\n",
              "    }\n",
              "\n",
              "    .colab-df-convert:hover {\n",
              "      background-color: #E2EBFA;\n",
              "      box-shadow: 0px 1px 2px rgba(60, 64, 67, 0.3), 0px 1px 3px 1px rgba(60, 64, 67, 0.15);\n",
              "      fill: #174EA6;\n",
              "    }\n",
              "\n",
              "    .colab-df-buttons div {\n",
              "      margin-bottom: 4px;\n",
              "    }\n",
              "\n",
              "    [theme=dark] .colab-df-convert {\n",
              "      background-color: #3B4455;\n",
              "      fill: #D2E3FC;\n",
              "    }\n",
              "\n",
              "    [theme=dark] .colab-df-convert:hover {\n",
              "      background-color: #434B5C;\n",
              "      box-shadow: 0px 1px 3px 1px rgba(0, 0, 0, 0.15);\n",
              "      filter: drop-shadow(0px 1px 2px rgba(0, 0, 0, 0.3));\n",
              "      fill: #FFFFFF;\n",
              "    }\n",
              "  </style>\n",
              "\n",
              "    <script>\n",
              "      const buttonEl =\n",
              "        document.querySelector('#df-93b310b5-b4ab-42b6-89f5-12359207e221 button.colab-df-convert');\n",
              "      buttonEl.style.display =\n",
              "        google.colab.kernel.accessAllowed ? 'block' : 'none';\n",
              "\n",
              "      async function convertToInteractive(key) {\n",
              "        const element = document.querySelector('#df-93b310b5-b4ab-42b6-89f5-12359207e221');\n",
              "        const dataTable =\n",
              "          await google.colab.kernel.invokeFunction('convertToInteractive',\n",
              "                                                    [key], {});\n",
              "        if (!dataTable) return;\n",
              "\n",
              "        const docLinkHtml = 'Like what you see? Visit the ' +\n",
              "          '<a target=\"_blank\" href=https://colab.research.google.com/notebooks/data_table.ipynb>data table notebook</a>'\n",
              "          + ' to learn more about interactive tables.';\n",
              "        element.innerHTML = '';\n",
              "        dataTable['output_type'] = 'display_data';\n",
              "        await google.colab.output.renderOutput(dataTable, element);\n",
              "        const docLink = document.createElement('div');\n",
              "        docLink.innerHTML = docLinkHtml;\n",
              "        element.appendChild(docLink);\n",
              "      }\n",
              "    </script>\n",
              "  </div>\n",
              "\n",
              "\n",
              "<div id=\"df-c641046c-0ca3-499a-a5e4-84b9f918d4ac\">\n",
              "  <button class=\"colab-df-quickchart\" onclick=\"quickchart('df-c641046c-0ca3-499a-a5e4-84b9f918d4ac')\"\n",
              "            title=\"Suggest charts\"\n",
              "            style=\"display:none;\">\n",
              "\n",
              "<svg xmlns=\"http://www.w3.org/2000/svg\" height=\"24px\"viewBox=\"0 0 24 24\"\n",
              "     width=\"24px\">\n",
              "    <g>\n",
              "        <path d=\"M19 3H5c-1.1 0-2 .9-2 2v14c0 1.1.9 2 2 2h14c1.1 0 2-.9 2-2V5c0-1.1-.9-2-2-2zM9 17H7v-7h2v7zm4 0h-2V7h2v10zm4 0h-2v-4h2v4z\"/>\n",
              "    </g>\n",
              "</svg>\n",
              "  </button>\n",
              "\n",
              "<style>\n",
              "  .colab-df-quickchart {\n",
              "      --bg-color: #E8F0FE;\n",
              "      --fill-color: #1967D2;\n",
              "      --hover-bg-color: #E2EBFA;\n",
              "      --hover-fill-color: #174EA6;\n",
              "      --disabled-fill-color: #AAA;\n",
              "      --disabled-bg-color: #DDD;\n",
              "  }\n",
              "\n",
              "  [theme=dark] .colab-df-quickchart {\n",
              "      --bg-color: #3B4455;\n",
              "      --fill-color: #D2E3FC;\n",
              "      --hover-bg-color: #434B5C;\n",
              "      --hover-fill-color: #FFFFFF;\n",
              "      --disabled-bg-color: #3B4455;\n",
              "      --disabled-fill-color: #666;\n",
              "  }\n",
              "\n",
              "  .colab-df-quickchart {\n",
              "    background-color: var(--bg-color);\n",
              "    border: none;\n",
              "    border-radius: 50%;\n",
              "    cursor: pointer;\n",
              "    display: none;\n",
              "    fill: var(--fill-color);\n",
              "    height: 32px;\n",
              "    padding: 0;\n",
              "    width: 32px;\n",
              "  }\n",
              "\n",
              "  .colab-df-quickchart:hover {\n",
              "    background-color: var(--hover-bg-color);\n",
              "    box-shadow: 0 1px 2px rgba(60, 64, 67, 0.3), 0 1px 3px 1px rgba(60, 64, 67, 0.15);\n",
              "    fill: var(--button-hover-fill-color);\n",
              "  }\n",
              "\n",
              "  .colab-df-quickchart-complete:disabled,\n",
              "  .colab-df-quickchart-complete:disabled:hover {\n",
              "    background-color: var(--disabled-bg-color);\n",
              "    fill: var(--disabled-fill-color);\n",
              "    box-shadow: none;\n",
              "  }\n",
              "\n",
              "  .colab-df-spinner {\n",
              "    border: 2px solid var(--fill-color);\n",
              "    border-color: transparent;\n",
              "    border-bottom-color: var(--fill-color);\n",
              "    animation:\n",
              "      spin 1s steps(1) infinite;\n",
              "  }\n",
              "\n",
              "  @keyframes spin {\n",
              "    0% {\n",
              "      border-color: transparent;\n",
              "      border-bottom-color: var(--fill-color);\n",
              "      border-left-color: var(--fill-color);\n",
              "    }\n",
              "    20% {\n",
              "      border-color: transparent;\n",
              "      border-left-color: var(--fill-color);\n",
              "      border-top-color: var(--fill-color);\n",
              "    }\n",
              "    30% {\n",
              "      border-color: transparent;\n",
              "      border-left-color: var(--fill-color);\n",
              "      border-top-color: var(--fill-color);\n",
              "      border-right-color: var(--fill-color);\n",
              "    }\n",
              "    40% {\n",
              "      border-color: transparent;\n",
              "      border-right-color: var(--fill-color);\n",
              "      border-top-color: var(--fill-color);\n",
              "    }\n",
              "    60% {\n",
              "      border-color: transparent;\n",
              "      border-right-color: var(--fill-color);\n",
              "    }\n",
              "    80% {\n",
              "      border-color: transparent;\n",
              "      border-right-color: var(--fill-color);\n",
              "      border-bottom-color: var(--fill-color);\n",
              "    }\n",
              "    90% {\n",
              "      border-color: transparent;\n",
              "      border-bottom-color: var(--fill-color);\n",
              "    }\n",
              "  }\n",
              "</style>\n",
              "\n",
              "  <script>\n",
              "    async function quickchart(key) {\n",
              "      const quickchartButtonEl =\n",
              "        document.querySelector('#' + key + ' button');\n",
              "      quickchartButtonEl.disabled = true;  // To prevent multiple clicks.\n",
              "      quickchartButtonEl.classList.add('colab-df-spinner');\n",
              "      try {\n",
              "        const charts = await google.colab.kernel.invokeFunction(\n",
              "            'suggestCharts', [key], {});\n",
              "      } catch (error) {\n",
              "        console.error('Error during call to suggestCharts:', error);\n",
              "      }\n",
              "      quickchartButtonEl.classList.remove('colab-df-spinner');\n",
              "      quickchartButtonEl.classList.add('colab-df-quickchart-complete');\n",
              "    }\n",
              "    (() => {\n",
              "      let quickchartButtonEl =\n",
              "        document.querySelector('#df-c641046c-0ca3-499a-a5e4-84b9f918d4ac button');\n",
              "      quickchartButtonEl.style.display =\n",
              "        google.colab.kernel.accessAllowed ? 'block' : 'none';\n",
              "    })();\n",
              "  </script>\n",
              "</div>\n",
              "\n",
              "  <div id=\"id_8bb86d89-ccb5-4fa1-86e3-3582e0c0923a\">\n",
              "    <style>\n",
              "      .colab-df-generate {\n",
              "        background-color: #E8F0FE;\n",
              "        border: none;\n",
              "        border-radius: 50%;\n",
              "        cursor: pointer;\n",
              "        display: none;\n",
              "        fill: #1967D2;\n",
              "        height: 32px;\n",
              "        padding: 0 0 0 0;\n",
              "        width: 32px;\n",
              "      }\n",
              "\n",
              "      .colab-df-generate:hover {\n",
              "        background-color: #E2EBFA;\n",
              "        box-shadow: 0px 1px 2px rgba(60, 64, 67, 0.3), 0px 1px 3px 1px rgba(60, 64, 67, 0.15);\n",
              "        fill: #174EA6;\n",
              "      }\n",
              "\n",
              "      [theme=dark] .colab-df-generate {\n",
              "        background-color: #3B4455;\n",
              "        fill: #D2E3FC;\n",
              "      }\n",
              "\n",
              "      [theme=dark] .colab-df-generate:hover {\n",
              "        background-color: #434B5C;\n",
              "        box-shadow: 0px 1px 3px 1px rgba(0, 0, 0, 0.15);\n",
              "        filter: drop-shadow(0px 1px 2px rgba(0, 0, 0, 0.3));\n",
              "        fill: #FFFFFF;\n",
              "      }\n",
              "    </style>\n",
              "    <button class=\"colab-df-generate\" onclick=\"generateWithVariable('df')\"\n",
              "            title=\"Generate code using this dataframe.\"\n",
              "            style=\"display:none;\">\n",
              "\n",
              "  <svg xmlns=\"http://www.w3.org/2000/svg\" height=\"24px\"viewBox=\"0 0 24 24\"\n",
              "       width=\"24px\">\n",
              "    <path d=\"M7,19H8.4L18.45,9,17,7.55,7,17.6ZM5,21V16.75L18.45,3.32a2,2,0,0,1,2.83,0l1.4,1.43a1.91,1.91,0,0,1,.58,1.4,1.91,1.91,0,0,1-.58,1.4L9.25,21ZM18.45,9,17,7.55Zm-12,3A5.31,5.31,0,0,0,4.9,8.1,5.31,5.31,0,0,0,1,6.5,5.31,5.31,0,0,0,4.9,4.9,5.31,5.31,0,0,0,6.5,1,5.31,5.31,0,0,0,8.1,4.9,5.31,5.31,0,0,0,12,6.5,5.46,5.46,0,0,0,6.5,12Z\"/>\n",
              "  </svg>\n",
              "    </button>\n",
              "    <script>\n",
              "      (() => {\n",
              "      const buttonEl =\n",
              "        document.querySelector('#id_8bb86d89-ccb5-4fa1-86e3-3582e0c0923a button.colab-df-generate');\n",
              "      buttonEl.style.display =\n",
              "        google.colab.kernel.accessAllowed ? 'block' : 'none';\n",
              "\n",
              "      buttonEl.onclick = () => {\n",
              "        google.colab.notebook.generateWithVariable('df');\n",
              "      }\n",
              "      })();\n",
              "    </script>\n",
              "  </div>\n",
              "\n",
              "    </div>\n",
              "  </div>\n"
            ],
            "application/vnd.google.colaboratory.intrinsic+json": {
              "type": "dataframe",
              "variable_name": "df",
              "summary": "{\n  \"name\": \"df\",\n  \"rows\": 3,\n  \"fields\": [\n    {\n      \"column\": \"Assunto\",\n      \"properties\": {\n        \"dtype\": \"string\",\n        \"num_unique_values\": 3,\n        \"samples\": [\n          \"Opera\\u00e7\\u00e3o do sistema de controle clim\\u00e1tico\",\n          \"Touchscreen\",\n          \"Mudan\\u00e7a de marchas\"\n        ],\n        \"semantic_type\": \"\",\n        \"description\": \"\"\n      }\n    },\n    {\n      \"column\": \"Abordagem\",\n      \"properties\": {\n        \"dtype\": \"string\",\n        \"num_unique_values\": 3,\n        \"samples\": [\n          \"O Googlecar tem um sistema de controle clim\\u00e1tico que permite ajustar a temperatura e o fluxo de ar no carro. Para operar o sistema de controle clim\\u00e1tico, use os bot\\u00f5es e bot\\u00f5es localizados no console central.  Temperatura: O bot\\u00e3o de temperatura controla a temperatura dentro do carro. Gire o bot\\u00e3o no sentido hor\\u00e1rio para aumentar a temperatura ou no sentido anti-hor\\u00e1rio para diminuir a temperatura. Fluxo de ar: O bot\\u00e3o de fluxo de ar controla a quantidade de fluxo de ar dentro do carro. Gire o bot\\u00e3o no sentido hor\\u00e1rio para aumentar o fluxo de ar ou no sentido anti-hor\\u00e1rio para diminuir o fluxo de ar. Velocidade do ventilador: O bot\\u00e3o de velocidade do ventilador controla a velocidade do ventilador. Gire o bot\\u00e3o no sentido hor\\u00e1rio para aumentar a velocidade do ventilador ou no sentido anti-hor\\u00e1rio para diminuir a velocidade do ventilador. Modo: O bot\\u00e3o de modo permite que voc\\u00ea selecione o modo desejado. Os modos dispon\\u00edveis s\\u00e3o: Auto: O carro ajustar\\u00e1 automaticamente a temperatura e o fluxo de ar para manter um n\\u00edvel confort\\u00e1vel. Cool (Frio): O carro soprar\\u00e1 ar frio para dentro do carro. Heat: O carro soprar\\u00e1 ar quente para dentro do carro. Defrost (Descongelamento): O carro soprar\\u00e1 ar quente no para-brisa para descongel\\u00e1-lo.\",\n          \"O seu Googlecar tem uma grande tela sens\\u00edvel ao toque que fornece acesso a uma variedade de recursos, incluindo navega\\u00e7\\u00e3o, entretenimento e controle clim\\u00e1tico. Para usar a tela sens\\u00edvel ao toque, basta tocar no \\u00edcone desejado.  Por exemplo, voc\\u00ea pode tocar no \\u00edcone \\\"Navigation\\\" (Navega\\u00e7\\u00e3o) para obter dire\\u00e7\\u00f5es para o seu destino ou tocar no \\u00edcone \\\"Music\\\" (M\\u00fasica) para reproduzir suas m\\u00fasicas favoritas.\",\n          \"Seu Googlecar tem uma transmiss\\u00e3o autom\\u00e1tica. Para trocar as marchas, basta mover a alavanca de c\\u00e2mbio para a posi\\u00e7\\u00e3o desejada.  Park (Estacionar): Essa posi\\u00e7\\u00e3o \\u00e9 usada quando voc\\u00ea est\\u00e1 estacionado. As rodas s\\u00e3o travadas e o carro n\\u00e3o pode se mover. Marcha \\u00e0 r\\u00e9: Essa posi\\u00e7\\u00e3o \\u00e9 usada para dar r\\u00e9. Neutro: Essa posi\\u00e7\\u00e3o \\u00e9 usada quando voc\\u00ea est\\u00e1 parado em um sem\\u00e1foro ou no tr\\u00e2nsito. O carro n\\u00e3o est\\u00e1 em marcha e n\\u00e3o se mover\\u00e1 a menos que voc\\u00ea pressione o pedal do acelerador. Drive (Dirigir): Essa posi\\u00e7\\u00e3o \\u00e9 usada para dirigir para frente. Low: essa posi\\u00e7\\u00e3o \\u00e9 usada para dirigir na neve ou em outras condi\\u00e7\\u00f5es escorregadias.\"\n        ],\n        \"semantic_type\": \"\",\n        \"description\": \"\"\n      }\n    }\n  ]\n}"
            }
          },
          "metadata": {},
          "execution_count": 25
        }
      ]
    },
    {
      "cell_type": "code",
      "source": [
        "model = 'models/embedding-001'"
      ],
      "metadata": {
        "id": "ys3qs7SDJTI0"
      },
      "execution_count": 26,
      "outputs": []
    },
    {
      "cell_type": "code",
      "source": [
        "def embed_fn(title, text):\n",
        "  return genai.embed_content(model=model,\n",
        "                                 content=text,\n",
        "                                 title=title,\n",
        "                                 task_type=\"RETRIEVAL_DOCUMENT\")[\"embedding\"]\n",
        "\n",
        "\n",
        "  produtos_escalares = np.dot(np.stack(df[\"Embeddings\"]), embedding_da_consulta)\n",
        "\n",
        "  indice = np.argmax(produtos_escalares)\n",
        "  return df.iloc[indice][\"Conteudo\"]"
      ],
      "metadata": {
        "id": "ZMqvK7LfKxu_"
      },
      "execution_count": 27,
      "outputs": []
    },
    {
      "cell_type": "code",
      "source": [
        "consulta = \"Como faço para trocar marchas em um carro do Google?\"\n",
        "\n",
        "trecho = 'gerar_e_buscar_consulta(consulta, df, model)'\n",
        "print(trecho)"
      ],
      "metadata": {
        "colab": {
          "base_uri": "https://localhost:8080/"
        },
        "id": "uMml7gG0tgK0",
        "outputId": "2d9b1950-ed88-44f2-cae0-1bba73a8c59b"
      },
      "execution_count": 7,
      "outputs": [
        {
          "output_type": "stream",
          "name": "stdout",
          "text": [
            "gerar_e_buscar_consulta(consulta, df, model)\n"
          ]
        }
      ]
    },
    {
      "cell_type": "code",
      "source": [
        "generation_config = {\n",
        "  \"temperature\": 0,\n",
        "  \"candidate_count\": 1\n",
        "}"
      ],
      "metadata": {
        "id": "NMt9DlwDuIXq"
      },
      "execution_count": 5,
      "outputs": []
    },
    {
      "cell_type": "code",
      "source": [
        "prompt = f\"Reescreva esse texto de uma forma mais descontraída, sem adicionar informações que não façam parte do texto: {trecho}\"\n",
        "\n",
        "model_2 = genai.GenerativeModel(\"gemini-1.0-pro\",\n",
        "                                generation_config=generation_config)\n",
        "response = model_2.generate_content(prompt)\n",
        "print(response.text)"
      ],
      "metadata": {
        "colab": {
          "base_uri": "https://localhost:8080/",
          "height": 54
        },
        "id": "LkDFiBTxt73u",
        "outputId": "a132500f-0692-4836-b36d-656aa467948a"
      },
      "execution_count": 28,
      "outputs": [
        {
          "output_type": "stream",
          "name": "stdout",
          "text": [
            "\"Dá uma olhada nessa consulta, mano. Vamos dar uma busca no nosso DataFrame, o df, usando esse model aqui. Vamos ver o que rola!\"\n"
          ]
        }
      ]
    }
  ]
}
